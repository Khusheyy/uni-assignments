{
  "nbformat": 4,
  "nbformat_minor": 0,
  "metadata": {
    "colab": {
      "provenance": [],
      "authorship_tag": "ABX9TyNJFbxzIaCUbHmnmZfmBjBy",
      "include_colab_link": true
    },
    "kernelspec": {
      "name": "python3",
      "display_name": "Python 3"
    },
    "language_info": {
      "name": "python"
    }
  },
  "cells": [
    {
      "cell_type": "markdown",
      "metadata": {
        "id": "view-in-github",
        "colab_type": "text"
      },
      "source": [
        "<a href=\"https://colab.research.google.com/github/Khusheyy/uni-assignments/blob/main/declarative_programming.ipynb\" target=\"_parent\"><img src=\"https://colab.research.google.com/assets/colab-badge.svg\" alt=\"Open In Colab\"/></a>"
      ]
    },
    {
      "cell_type": "code",
      "execution_count": null,
      "metadata": {
        "colab": {
          "base_uri": "https://localhost:8080/"
        },
        "id": "6qIKo1ul2VnW",
        "outputId": "86f2222d-2f5b-4477-8aa3-abd6edbaef6d"
      },
      "outputs": [
        {
          "output_type": "stream",
          "name": "stdout",
          "text": [
            "(1000, 'Alice', 'alice@gmail.com', 'Female', 70, 80, 90)\n",
            "(1001, 'Bob', 'bob@gmail.com', 'Male', 74, 60, 70)\n",
            "(1002, 'Chris', 'chris@gmail.com', 'Female', 76, 66, 76)\n"
          ]
        }
      ],
      "source": [
        "import sqlite3\n",
        "\n",
        "connection = sqlite3.connect(\"MyStud.db\")\n",
        "crsr = connection.cursor()\n",
        "\n",
        "sql_command = \"\"\"CREATE TABLE Student(\n",
        "studID INTEGER PRIMARY KEY,\n",
        "fname varchar(20),\n",
        "email varchar(40),\n",
        "gender varchar(30),\n",
        "Physics int,\n",
        "Chemistry int,\n",
        "Maths int);\"\"\"\n",
        "crsr.execute(sql_command)\n",
        "\n",
        "ins = \"\"\"INSERT INTO Student VALUES(1000, \"Alice\", \"alice@gmail.com\", \"Female\", 70, 80, 90);\"\"\"\n",
        "crsr.execute(ins)\n",
        "ins = \"\"\"INSERT INTO Student VALUES(1001, \"Bob\", \"bob@gmail.com\", \"Male\", 74, 60, 70);\"\"\"\n",
        "crsr.execute(ins)\n",
        "ins = \"\"\"INSERT INTO Student VALUES(1002, \"Chris\", \"chris@gmail.com\", \"Female\", 76, 66, 76);\"\"\"\n",
        "crsr.execute(ins)\n",
        "\n",
        "cmd = \"SELECT * FROM Student\"\n",
        "crsr.execute(cmd)\n",
        "\n",
        "ans = crsr.fetchall()\n",
        "for i in ans:\n",
        "    print(i)\n",
        "\n",
        "connection.close()\n"
      ]
    },
    {
      "cell_type": "code",
      "source": [],
      "metadata": {
        "id": "AdRVkxQh28j3"
      },
      "execution_count": null,
      "outputs": []
    }
  ]
}