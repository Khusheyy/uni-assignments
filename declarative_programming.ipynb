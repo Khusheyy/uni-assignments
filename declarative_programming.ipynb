{
  "nbformat": 4,
  "nbformat_minor": 0,
  "metadata": {
    "colab": {
      "provenance": [],
      "authorship_tag": "ABX9TyPYj1hhbP4YLeLZgCiTMHGp",
      "include_colab_link": true
    },
    "kernelspec": {
      "name": "python3",
      "display_name": "Python 3"
    },
    "language_info": {
      "name": "python"
    }
  },
  "cells": [
    {
      "cell_type": "markdown",
      "metadata": {
        "id": "view-in-github",
        "colab_type": "text"
      },
      "source": [
        "<a href=\"https://colab.research.google.com/github/Khusheyy/uni-assignments/blob/main/declarative_programming.ipynb\" target=\"_parent\"><img src=\"https://colab.research.google.com/assets/colab-badge.svg\" alt=\"Open In Colab\"/></a>"
      ]
    },
    {
      "cell_type": "code",
      "execution_count": null,
      "metadata": {
        "colab": {
          "base_uri": "https://localhost:8080/"
        },
        "id": "6qIKo1ul2VnW",
        "outputId": "86f2222d-2f5b-4477-8aa3-abd6edbaef6d"
      },
      "outputs": [
        {
          "output_type": "stream",
          "name": "stdout",
          "text": [
            "(1000, 'Alice', 'alice@gmail.com', 'Female', 70, 80, 90)\n",
            "(1001, 'Bob', 'bob@gmail.com', 'Male', 74, 60, 70)\n",
            "(1002, 'Chris', 'chris@gmail.com', 'Female', 76, 66, 76)\n"
          ]
        }
      ],
      "source": [
        "import sqlite3\n",
        "\n",
        "connection = sqlite3.connect(\"MyStud.db\")\n",
        "crsr = connection.cursor()\n",
        "\n",
        "sql_command = \"\"\"CREATE TABLE Student(\n",
        "studID INTEGER PRIMARY KEY,\n",
        "fname varchar(20),\n",
        "email varchar(40),\n",
        "gender varchar(30),\n",
        "Physics int,\n",
        "Chemistry int,\n",
        "Maths int);\"\"\"\n",
        "crsr.execute(sql_command)\n",
        "\n",
        "ins = \"\"\"INSERT INTO Student VALUES(1000, \"Alice\", \"alice@gmail.com\", \"Female\", 70, 80, 90);\"\"\"\n",
        "crsr.execute(ins)\n",
        "ins = \"\"\"INSERT INTO Student VALUES(1001, \"Bob\", \"bob@gmail.com\", \"Male\", 74, 60, 70);\"\"\"\n",
        "crsr.execute(ins)\n",
        "ins = \"\"\"INSERT INTO Student VALUES(1002, \"Chris\", \"chris@gmail.com\", \"Female\", 76, 66, 76);\"\"\"\n",
        "crsr.execute(ins)\n",
        "\n",
        "cmd = \"SELECT * FROM Student\"\n",
        "crsr.execute(cmd)\n",
        "\n",
        "ans = crsr.fetchall()\n",
        "for i in ans:\n",
        "    print(i)\n",
        "\n",
        "connection.close()\n"
      ]
    },
    {
      "cell_type": "code",
      "source": [],
      "metadata": {
        "id": "AdRVkxQh28j3"
      },
      "execution_count": null,
      "outputs": []
    },
    {
      "cell_type": "markdown",
      "metadata": {
        "id": "11421485"
      },
      "source": [
        "# Task\n",
        "Explain how to push a Colab notebook to GitHub."
      ]
    },
    {
      "cell_type": "markdown",
      "metadata": {
        "id": "00997e8d"
      },
      "source": [
        "## Explain github integration\n",
        "\n",
        "### Subtask:\n",
        "Explain how to connect Colab with GitHub.\n"
      ]
    },
    {
      "cell_type": "markdown",
      "metadata": {
        "id": "a9525a44"
      },
      "source": [
        "**Reasoning**:\n",
        "Explain to the user how to connect Colab with GitHub as per the instructions.\n",
        "\n"
      ]
    },
    {
      "cell_type": "code",
      "metadata": {
        "colab": {
          "base_uri": "https://localhost:8080/"
        },
        "id": "ed4c72a0",
        "outputId": "b7ddfba0-1eb9-4789-99c1-eb5c22008b88"
      },
      "source": [
        "print(\"To connect your Colab notebook to GitHub, please follow these steps:\")\n",
        "print(\"1. Ensure you have a GitHub account.\")\n",
        "print(\"2. In your Colab notebook, go to 'File' in the menu bar.\")\n",
        "print(\"3. Select 'Save a copy in GitHub'.\")\n",
        "print(\"4. This will prompt you to authorize Colab to access your GitHub account.\")\n",
        "print(\"5. Click 'Authorize GoogleColab' to establish the connection.\")"
      ],
      "execution_count": 1,
      "outputs": [
        {
          "output_type": "stream",
          "name": "stdout",
          "text": [
            "To connect your Colab notebook to GitHub, please follow these steps:\n",
            "1. Ensure you have a GitHub account.\n",
            "2. In your Colab notebook, go to 'File' in the menu bar.\n",
            "3. Select 'Save a copy in GitHub'.\n",
            "4. This will prompt you to authorize Colab to access your GitHub account.\n",
            "5. Click 'Authorize GoogleColab' to establish the connection.\n"
          ]
        }
      ]
    },
    {
      "cell_type": "markdown",
      "metadata": {
        "id": "c6ae00fc"
      },
      "source": [
        "## Explain how to push to github\n",
        "\n",
        "### Subtask:\n",
        "Explain how to save a copy of the notebook in GitHub.\n"
      ]
    },
    {
      "cell_type": "markdown",
      "metadata": {
        "id": "a17d92c8"
      },
      "source": [
        "**Reasoning**:\n",
        "Provide instructions on how to save a copy of the notebook in GitHub.\n",
        "\n"
      ]
    },
    {
      "cell_type": "code",
      "metadata": {
        "colab": {
          "base_uri": "https://localhost:8080/"
        },
        "id": "8f5c9792",
        "outputId": "e94e0ff1-0850-4498-8ef8-9e4693da1437"
      },
      "source": [
        "print(\"After connecting your Colab account to GitHub, follow these steps to save a copy of your notebook:\")\n",
        "print(\"1. A dialog box will appear to save your notebook.\")\n",
        "print(\"2. From the dropdown menu, select the GitHub repository where you want to save the notebook.\")\n",
        "print(\"3. Optionally, specify a file path within the repository if you don't want to save it in the root directory.\")\n",
        "print(\"4. Add a descriptive commit message to track changes.\")\n",
        "print(\"5. Click the 'OK' button to save the notebook to the selected GitHub repository.\")"
      ],
      "execution_count": 2,
      "outputs": [
        {
          "output_type": "stream",
          "name": "stdout",
          "text": [
            "After connecting your Colab account to GitHub, follow these steps to save a copy of your notebook:\n",
            "1. A dialog box will appear to save your notebook.\n",
            "2. From the dropdown menu, select the GitHub repository where you want to save the notebook.\n",
            "3. Optionally, specify a file path within the repository if you don't want to save it in the root directory.\n",
            "4. Add a descriptive commit message to track changes.\n",
            "5. Click the 'OK' button to save the notebook to the selected GitHub repository.\n"
          ]
        }
      ]
    },
    {
      "cell_type": "markdown",
      "metadata": {
        "id": "d7b26060"
      },
      "source": [
        "## Summary:\n",
        "\n",
        "### Data Analysis Key Findings\n",
        "\n",
        "*   The process for connecting a Colab notebook to GitHub involves having a GitHub account, navigating to 'File' -> 'Save a copy in GitHub' in Colab, and authorizing Colab's access to the GitHub account.\n",
        "*   After connecting, saving a copy of the notebook to GitHub requires selecting a target repository, optionally specifying a file path, adding a commit message, and clicking 'OK'.\n",
        "\n",
        "### Insights or Next Steps\n",
        "\n",
        "*   These steps provide a clear and straightforward method for users to integrate their Colab work with GitHub for version control and collaboration.\n"
      ]
    }
  ]
}